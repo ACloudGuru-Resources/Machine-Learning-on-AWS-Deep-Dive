{
 "cells": [
  {
   "cell_type": "markdown",
   "id": "18949415-b151-4ef5-8bfc-05ffbc2cd063",
   "metadata": {},
   "source": [
    "# Using Clarify to Detect Pre-Training Bias\n",
    "\n",
    "## Environment Setup\n",
    "\n",
    "- Image: Data Science\n",
    "- Kernel: Python 3\n",
    "- Instance type: ml.t3.medium\n",
    "\n",
    "## Background\n",
    "\n",
    "This notebook uses SageMaker Clarify to detect bias in a dataset for home loans.  The dataset, *loan_data.csv*, contains information about customers who applied for a home loan, and whether or not they were approved.  We also use SageMaker Experiments so we can view the Bias Report directly from the Experiments UI.\n",
    "\n",
    "The dataset was adapted from [Kaggle](https://www.kaggle.com/datasets/devzohaib/eligibility-prediction-for-loan)."
   ]
  },
  {
   "cell_type": "markdown",
   "id": "4ee74e56-00ed-4215-9c5f-9197434eb6e0",
   "metadata": {},
   "source": [
    "## Initialize Environment and Variables"
   ]
  },
  {
   "cell_type": "code",
   "execution_count": null,
   "id": "81010842-7bda-431a-a750-771b66964ab4",
   "metadata": {
    "tags": []
   },
   "outputs": [],
   "source": [
    "# What version of SageMaker are you running?\n",
    "import sagemaker\n",
    "print(sagemaker.__version__)"
   ]
  },
  {
   "cell_type": "code",
   "execution_count": null,
   "id": "bfc0b9f5-1109-4a0c-b077-2abcc0376fd8",
   "metadata": {
    "tags": []
   },
   "outputs": [],
   "source": [
    "# To use the Experiments functionality in the SageMaker Python SDK, you need to be running at least SageMaker v2.123.0\n",
    "# If the version printed above is less than that, run this line of code\n",
    "# You will need to restart the kernel after the upgrade\n",
    "!pip install --upgrade 'sagemaker>=2'"
   ]
  },
  {
   "cell_type": "code",
   "execution_count": null,
   "id": "abdc9a5a",
   "metadata": {
    "tags": []
   },
   "outputs": [],
   "source": [
    "# Import libraries\n",
    "import boto3\n",
    "import pandas as pd\n",
    "import os\n",
    "from time import sleep, gmtime, strftime\n",
    "\n",
    "import sagemaker\n",
    "from sagemaker import get_execution_role\n",
    "from sagemaker.predictor import CSVSerializer\n",
    "from sagemaker.inputs import TrainingInput\n",
    "\n",
    "from sagemaker import clarify\n",
    "\n",
    "from sagemaker.experiments.run import Run\n",
    "from sagemaker.experiments.run import load_run\n",
    "\n",
    "# Get the SageMaker session and the execution role from the SageMaker domain\n",
    "sess = sagemaker.Session()\n",
    "role = get_execution_role()\n",
    "\n",
    "bucket = 'clarify-loan-approval-acg-ai-1226' # Update with the name of a bucket that is already created in S3\n",
    "prefix = 'demo' # The name of the folder that will be created in the S3 bucket"
   ]
  },
  {
   "cell_type": "markdown",
   "id": "37f882a2-a3d6-4b40-893e-e9460522b3d6",
   "metadata": {},
   "source": [
    "---\n",
    "## Data\n",
    "\n",
    "For this lesson, the data in *loan_data.csv* has been cleaned.  We'll load it into a dataframe, parsing out the target attribute (\"Approved\"), then take the local file and upload it to S3 so SageMaker can use it."
   ]
  },
  {
   "cell_type": "code",
   "execution_count": null,
   "id": "c93baaeb-985f-4968-a7bd-db15a36f6935",
   "metadata": {
    "tags": []
   },
   "outputs": [],
   "source": [
    "# Read data into a dataframe\n",
    "data_path = 'loan_data.csv'\n",
    "\n",
    "# Parse out the target attribute (\"Approved\")\n",
    "attributes = ['loan_id', 'gender', 'married', 'dependents', 'education', 'self_employed', 'applicant_income', 'coapplicant_income', 'loan_amount', 'term', 'credit_history', 'property_area']\n",
    "target_attribute = ['approved']\n",
    "col_names = attributes + target_attribute\n",
    "\n",
    "df = pd.read_csv(data_path, delimiter=',', index_col=None)\n",
    "df = df[col_names]\n",
    "\n",
    "# Print the first five rows\n",
    "df.head()"
   ]
  },
  {
   "cell_type": "code",
   "execution_count": null,
   "id": "ef30c0a5",
   "metadata": {
    "tags": []
   },
   "outputs": [],
   "source": [
    "# Upload the file to the S3 bucket defined above\n",
    "boto3.Session().resource('s3').Bucket(bucket).Object(os.path.join(prefix, 'loan_data.csv')).upload_file('loan_data.csv')"
   ]
  },
  {
   "cell_type": "markdown",
   "id": "0ecff1cd-de93-4040-b527-49c4ee7fa32f",
   "metadata": {},
   "source": [
    "## Clarify and Experiments\n",
    "\n",
    "In this section, we implement the Clarify code to detect bias in our dataset.  It starts with a processor for the job, then we define various configuration parameters.  When we run the pre_training_bias job, we hook into our Experiment."
   ]
  },
  {
   "cell_type": "code",
   "execution_count": null,
   "id": "d51e8c30",
   "metadata": {
    "tags": []
   },
   "outputs": [],
   "source": [
    "# Define the processor for the job\n",
    "clarify_processor = clarify.SageMakerClarifyProcessor(\n",
    "    role=role,\n",
    "    instance_count=1,\n",
    "    instance_type='ml.m5.xlarge', \n",
    "    sagemaker_session=sess,\n",
    "    job_name_prefix='clarify-pre-training-bias-detection-job'\n",
    ")\n",
    "\n",
    "# Specify the path where the bias report will be saved once complete\n",
    "bias_report_output_path = 's3://{}/{}/clarify-bias'.format(bucket, prefix)\n",
    "\n",
    "# Specify the S3 path to our input data\n",
    "s3_data_input_path='s3://{}/{}'.format(bucket, prefix)\n",
    "\n",
    "# Specify inputs, outputs, columns and target names\n",
    "bias_data_config = clarify.DataConfig(\n",
    "    s3_data_input_path=s3_data_input_path,\n",
    "    s3_output_path=bias_report_output_path,\n",
    "    label='approved',\n",
    "    headers=df.columns.to_list(),\n",
    "    dataset_type='text/csv',\n",
    ")\n",
    "\n",
    "# Specify the configuration of the bias detection job\n",
    "# For facet_name, we include two sensitive features we want to check for bias: gender and self-employed\n",
    "# For facet_values_or_threshold, we input the values of potentially disadvantaged groups (gender of 0 = female; self-employed of 1 = self-employed)\n",
    "bias_config = clarify.BiasConfig(\n",
    "    label_values_or_threshold=['Y'], # The value that indicates someone received a home loan\n",
    "    facet_name=['gender', 'self_employed'],\n",
    "    facet_values_or_threshold=[[0], [1]]\n",
    ")"
   ]
  },
  {
   "cell_type": "code",
   "execution_count": null,
   "id": "87df6688-acb4-4634-b05a-5e44b313ef6a",
   "metadata": {
    "tags": []
   },
   "outputs": [],
   "source": [
    "# Create an experiment and start a new run\n",
    "experiment_name = 'loan-approval-experiment'\n",
    "run_name = 'pre-training-bias'\n",
    "\n",
    "# Run the bias detection job, associating it with our Experiment\n",
    "with Run(\n",
    "    experiment_name=experiment_name,\n",
    "    run_name=run_name,\n",
    "    sagemaker_session=sess,\n",
    ") as run:\n",
    "    clarify_processor.run_pre_training_bias(\n",
    "        data_config=bias_data_config,\n",
    "        data_bias_config=bias_config,\n",
    "        logs=False,\n",
    "    )"
   ]
  },
  {
   "cell_type": "markdown",
   "id": "5e1f0c27-3a20-4af8-9606-22e79133589e",
   "metadata": {},
   "source": [
    "## Cleaning Up Experiments\n",
    "\n",
    "In this section, we delete our experiment (this cannot currently be done through the SageMaker UI)."
   ]
  },
  {
   "cell_type": "code",
   "execution_count": null,
   "id": "30edd430-8313-4233-b8b6-4598d23dfe0d",
   "metadata": {
    "tags": []
   },
   "outputs": [],
   "source": [
    "from sagemaker.experiments.experiment import _Experiment\n",
    "\n",
    "exp = _Experiment.load(experiment_name=experiment_name, sagemaker_session=sess)\n",
    "exp._delete_all(action=\"--force\")"
   ]
  },
  {
   "cell_type": "code",
   "execution_count": null,
   "id": "2bdb6422-4489-4f07-8075-12b2256a22ba",
   "metadata": {},
   "outputs": [],
   "source": []
  }
 ],
 "metadata": {
  "instance_type": "ml.t3.medium",
  "kernelspec": {
   "display_name": "Python 3 (Data Science)",
   "language": "python",
   "name": "python3__SAGEMAKER_INTERNAL__arn:aws:sagemaker:us-east-2:429704687514:image/datascience-1.0"
  },
  "language_info": {
   "codemirror_mode": {
    "name": "ipython",
    "version": 3
   },
   "file_extension": ".py",
   "mimetype": "text/x-python",
   "name": "python",
   "nbconvert_exporter": "python",
   "pygments_lexer": "ipython3",
   "version": "3.7.10"
  }
 },
 "nbformat": 4,
 "nbformat_minor": 5
}
