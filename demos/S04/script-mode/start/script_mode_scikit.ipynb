{
 "cells": [
  {
   "cell_type": "markdown",
   "id": "d7ba318e-7bd3-4745-baaa-8f36fd84e655",
   "metadata": {},
   "source": [
    "# Predicting the Quality of Red Wine \n",
    "\n",
    "## Environment Setup\n",
    "\n",
    "- Image: Data Science\n",
    "- Kernel: Python 3\n",
    "- Instance type: ml.t3.medium\n",
    "\n",
    "## Background\n",
    "\n",
    "This notebook illustrates how to use Script Mode in SageMaker Studio by using random forest regression with scikit-learn.  Once trained, the model will predict the quality of wine, given its various features.\n",
    "\n",
    "Input: *winequality-red.csv*, which contains 11 features for the wine plus a target feature for 'quality.'  Dataset taken from the [UCI Archives](https://archive.ics.uci.edu/ml/datasets/wine+quality). \n",
    "\n",
    "We use the SKLearn Estimator, pointing to our train.py file as the entry point.  The train.py file contains custom training/inference code that SageMaker will run."
   ]
  },
  {
   "cell_type": "markdown",
   "id": "f3b57189-cdc1-464a-a167-b94ba832f879",
   "metadata": {},
   "source": [
    "## Initialize Environment and Variables"
   ]
  },
  {
   "cell_type": "code",
   "execution_count": null,
   "id": "b429affb-6eb8-42a2-8f83-0d6f9444e829",
   "metadata": {
    "tags": []
   },
   "outputs": [],
   "source": [
    "# Import libraries\n",
    "import boto3\n",
    "import pandas as pd\n",
    "import numpy as np\n",
    "import time\n",
    "import json\n",
    "import os\n",
    "\n",
    "import sagemaker\n",
    "from sagemaker import get_execution_role\n",
    "from sagemaker.predictor import CSVSerializer\n",
    "from sagemaker.inputs import TrainingInput\n",
    "from sagemaker.sklearn import SKLearn\n",
    "\n",
    "# Get the SageMaker session and the execution role from the SageMaker domain\n",
    "sess = sagemaker.Session()\n",
    "role = get_execution_role()\n",
    "\n",
    "bucket = '<name-of-your-bucket>' # Update with the name of a bucket that is already created in S3\n",
    "prefix = 'demo' # The name of the folder that will be created in the S3 bucket"
   ]
  },
  {
   "cell_type": "markdown",
   "id": "2d015d60-e054-41ca-bdb5-5f5c1785d85c",
   "metadata": {},
   "source": [
    "## Data\n",
    "\n",
    "For this lesson, we'll take the local CSV file and split it 70/30 into training and validation sets.  Then we'll take these local files and upload them to S3 so SageMaker can use them."
   ]
  },
  {
   "cell_type": "code",
   "execution_count": null,
   "id": "af8f0cb3-aa59-45fc-ad86-8e624e94632a",
   "metadata": {
    "tags": []
   },
   "outputs": [],
   "source": [
    "# Read the data from the local CSV file and print the first five rows\n",
    "df = pd.read_csv('winequality-red.csv')\n",
    "df.head()"
   ]
  },
  {
   "cell_type": "code",
   "execution_count": null,
   "id": "6f8500f8-6eec-4cbb-a25a-ff70e2d70a4b",
   "metadata": {
    "tags": []
   },
   "outputs": [],
   "source": [
    "# Split data 70/30 for training and testing (there are 1,600 total rows, so cells 528 and 529 are where we split)\n",
    "train = df.iloc[:528,:]\n",
    "validation = df.iloc[529:,:]\n",
    "\n",
    "# Create CSVs for train and validation data\n",
    "train.to_csv('train.csv', index=False)\n",
    "validation.to_csv('validation.csv', index=False)\n",
    "\n",
    "# Upload training and validation data to the S3 bucket\n",
    "boto3.Session().resource('s3').Bucket(bucket).Object(os.path.join(prefix, 'train/train.csv')).upload_file('train.csv')\n",
    "boto3.Session().resource('s3').Bucket(bucket).Object(os.path.join(prefix, 'validation/validation.csv')).upload_file('validation.csv')\n",
    "\n",
    "# The location of our training and validation data in S3\n",
    "s3_input_train = TrainingInput(\n",
    "    s3_data='s3://{}/{}/train'.format(bucket, prefix), content_type='csv'\n",
    ")\n",
    "s3_input_validation = TrainingInput(\n",
    "    s3_data='s3://{}/{}/validation/'.format(bucket, prefix), content_type='csv'\n",
    ")"
   ]
  },
  {
   "cell_type": "markdown",
   "id": "db37cdd2-2251-479d-b667-200fdac42c17",
   "metadata": {},
   "source": [
    "## Train\n",
    "\n",
    "Now that we have our data in S3, we can move on to training.  In this section, we create the SKLearn estimator, with an entry point to our *train.py* script.  More information on the SKLearn estimator can be found [here](https://sagemaker.readthedocs.io/en/stable/frameworks/sklearn/sagemaker.sklearn.html)."
   ]
  },
  {
   "cell_type": "code",
   "execution_count": null,
   "id": "b3937b9c-bb2f-476a-85ca-122c44546f15",
   "metadata": {
    "tags": []
   },
   "outputs": [],
   "source": [
    "# Set up the SKLearn estimator, with entry point to our Python script\n",
    "sk_estimator = SKLearn(entry_point='train.py', \n",
    "                       role=role,\n",
    "                       instance_count=1, \n",
    "                       instance_type='ml.m5.large',\n",
    "                       py_version='py3',\n",
    "                       framework_version='0.23-1',\n",
    "                       script_mode=True,\n",
    "                       hyperparameters={\n",
    "                              'estimators': 20\n",
    "                            }\n",
    "                       )"
   ]
  },
  {
   "cell_type": "code",
   "execution_count": null,
   "id": "0b68b839-13b6-46c1-8803-7761eeda9354",
   "metadata": {
    "tags": []
   },
   "outputs": [],
   "source": [
    "# \"fit\" executes the training job\n",
    "sk_estimator.fit({'train': s3_input_train}) "
   ]
  },
  {
   "cell_type": "markdown",
   "id": "5142ad57-4de7-4665-831f-ef6ccbfb799a",
   "metadata": {},
   "source": [
    "## Deploy\n",
    "\n",
    "OPTIONAL for this lesson.  Now that our model has been trained, we can create an endpoint and deploy it.  Once it's deployed, we can pass in sample data to get a prediction on wine quality.\n",
    "\n",
    "Be sure to update the *endpoint_name* two cells below here."
   ]
  },
  {
   "cell_type": "code",
   "execution_count": null,
   "id": "da4ba6b2-3919-4e4d-9ee6-981da9ca2c0d",
   "metadata": {
    "tags": []
   },
   "outputs": [],
   "source": [
    "# Create an endpoint\n",
    "sk_endpoint_name = 'sklearn-rf-model'+time.strftime(\"%Y-%m-%d-%H-%M-%S\", time.gmtime())\n",
    "\n",
    "# Print the name of the endpoint so it can be used in the cell below\n",
    "print('Endpoint name: ' + sk_endpoint_name)\n",
    "\n",
    "# Deploy the model to the endpoint (this will take some time to complete)\n",
    "sk_predictor = sk_estimator.deploy(initial_instance_count=1,instance_type='ml.m5.large',\n",
    "                                   endpoint_name=sk_endpoint_name)"
   ]
  },
  {
   "cell_type": "code",
   "execution_count": null,
   "id": "5afc266c-f56c-443f-af77-c557c8e5c8de",
   "metadata": {
    "tags": []
   },
   "outputs": [],
   "source": [
    "# Pass sample data to get a prediction of wine quality\n",
    "client = boto3.client('sagemaker-runtime')\n",
    "content_type = 'application/json'\n",
    "\n",
    "endpoint_name = '<name-of-your-endpoint>' # Update with the name of your endpoint that was printed in the cell above\n",
    "\n",
    "# These are the values for a random wine record.  This particular wine should have a quality score of 6.\n",
    "request_body = {'Input': [[5.3, 0.47, 0.11, 2.2, 0.048, 16, 89, 0.99182, 3.54, 0.88, 13.56666667]]}\n",
    "\n",
    "# Serialize data\n",
    "data = json.loads(json.dumps(request_body))\n",
    "payload = json.dumps(data)\n",
    "\n",
    "# Invoke the endpoint, passing in the sample wine data\n",
    "response = client.invoke_endpoint(\n",
    "    EndpointName=endpoint_name,\n",
    "    ContentType=content_type,\n",
    "    Body=payload)\n",
    "result = json.loads(response['Body'].read().decode())['Output']\n",
    "\n",
    "# Output the result, which is the wine quality score\n",
    "result"
   ]
  }
 ],
 "metadata": {
  "instance_type": "ml.t3.medium",
  "kernelspec": {
   "display_name": "Python 3 (Data Science)",
   "language": "python",
   "name": "python3__SAGEMAKER_INTERNAL__arn:aws:sagemaker:us-west-2:236514542706:image/datascience-1.0"
  },
  "language_info": {
   "codemirror_mode": {
    "name": "ipython",
    "version": 3
   },
   "file_extension": ".py",
   "mimetype": "text/x-python",
   "name": "python",
   "nbconvert_exporter": "python",
   "pygments_lexer": "ipython3",
   "version": "3.7.10"
  }
 },
 "nbformat": 4,
 "nbformat_minor": 5
}
